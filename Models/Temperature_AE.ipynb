{
 "cells": [
  {
   "cell_type": "code",
   "execution_count": 21,
   "metadata": {},
   "outputs": [],
   "source": [
    "import numpy as np\n",
    "import tensorflow as tf\n",
    "from tensorflow import keras\n",
    "from sklearn.model_selection import train_test_split\n",
    "from sklearn.preprocessing import StandardScaler\n",
    "from sklearn.metrics import confusion_matrix, classification_report\n",
    "import pandas as pd"
   ]
  },
  {
   "cell_type": "code",
   "execution_count": 22,
   "metadata": {},
   "outputs": [],
   "source": [
    "df = pd.read_csv(r'C:\\Users\\Jubin\\Desktop\\RP18\\Datasets\\intel\\interpolated\\injected_bias\\mote=1_sensortype=temperature_faulttype=bias.csv')\n",
    "df['timestamp'] = pd.to_datetime(df['timestamp']).apply(lambda x: x.timestamp()) / 10**9\n",
    "X = df.drop(columns=['mote_id', 'light', 'timestamp', 'has_fault_type'])\n",
    "Y = df['has_fault_type']"
   ]
  },
  {
   "cell_type": "code",
   "execution_count": 23,
   "metadata": {},
   "outputs": [],
   "source": [
    "scaler = StandardScaler()\n",
    "X = scaler.fit_transform(X)  # Feature scaling\n",
    "X_train, X_test, Y_train, Y_test = train_test_split(X, Y, test_size=0.2, random_state=42)\n",
    "Y_train = np.array(Y_train)\n",
    "Y_test = np.array(Y_test)"
   ]
  },
  {
   "cell_type": "code",
   "execution_count": 24,
   "metadata": {},
   "outputs": [],
   "source": [
    "sequence_length = 100\n",
    "n_samples, input_dim = X_train.shape\n",
    "\n",
    "X_train_sequences = []\n",
    "Y_train_sequences = []\n",
    "\n",
    "for i in range(n_samples - sequence_length + 1):\n",
    "    sequence = X_train[i:i+sequence_length, :]\n",
    "    label = Y_train[i+sequence_length-1]  \n",
    "    X_train_sequences.append(sequence)\n",
    "    Y_train_sequences.append(label)\n",
    "\n",
    "X_train_sequences = np.array(X_train_sequences)\n",
    "Y_train_sequences = np.array(Y_train_sequences)\n",
    "\n",
    "X_train = X_train_sequences\n",
    "Y_train = Y_train_sequences\n",
    "\n",
    "sequence_length = 100\n",
    "n_samples, input_dim = X_test.shape\n",
    "\n",
    "X_test_sequences = []\n",
    "Y_test_sequences = []\n",
    "\n",
    "for i in range(n_samples - sequence_length + 1):\n",
    "    sequence = X_test[i:i+sequence_length, :]  \n",
    "    label = Y_test[i+sequence_length-1]  \n",
    "    X_test_sequences.append(sequence)\n",
    "    Y_test_sequences.append(label)\n",
    "\n",
    "X_test_sequences = np.array(X_test_sequences)\n",
    "Y_test_sequences = np.array(Y_test_sequences)\n",
    "\n",
    "X_test = X_test_sequences\n",
    "Y_test = Y_test_sequences"
   ]
  },
  {
   "cell_type": "code",
   "execution_count": 29,
   "metadata": {},
   "outputs": [],
   "source": [
    "# Define the LSTM-based supervised model\n",
    "input_dim = X_train.shape[2]\n",
    "sequence_length = X_train.shape[1]\n",
    "\n",
    "# Autoencoder Encoder\n",
    "encoder = keras.Sequential([\n",
    "    keras.layers.Input(shape=(sequence_length, input_dim)),\n",
    "    keras.layers.LSTM(64, return_sequences=True),\n",
    "    keras.layers.LSTM(32),\n",
    "])\n",
    "\n",
    "# Classifier on top of encoder\n",
    "classifier = keras.Sequential([\n",
    "    keras.layers.Input(shape=(32,)),  # Output dimension of the encoder\n",
    "    keras.layers.Dense(16, activation='relu'),\n",
    "    keras.layers.Dense(1, activation='sigmoid')  # Binary classification output\n",
    "])\n",
    "\n",
    "# Combine the encoder and classifier\n",
    "model = keras.Sequential([encoder, classifier])\n",
    "\n",
    "model.compile(optimizer='adam', loss='binary_crossentropy', metrics=['accuracy'])"
   ]
  },
  {
   "cell_type": "code",
   "execution_count": null,
   "metadata": {},
   "outputs": [],
   "source": [
    "# Train the model on the labeled data\n",
    "model.fit(X_train, Y_train, epochs=50, batch_size=32, shuffle=True, validation_split=0.2)"
   ]
  },
  {
   "cell_type": "code",
   "execution_count": null,
   "metadata": {},
   "outputs": [],
   "source": [
    "# Evaluate the model on the test set\n",
    "y_pred = model.predict(X_test)\n",
    "print(y_pred)\n",
    "#y_pred_binary = (y_pred > 0.5).astype(int)  # Convert probabilities to binary predictions"
   ]
  },
  {
   "cell_type": "code",
   "execution_count": 39,
   "metadata": {},
   "outputs": [],
   "source": [
    "for i in range(y_pred.size):\n",
    "    if y_pred[i] == 1:\n",
    "        y_pred[i] = 4"
   ]
  },
  {
   "cell_type": "code",
   "execution_count": 40,
   "metadata": {},
   "outputs": [
    {
     "data": {
      "text/plain": [
       "array([[0.],\n",
       "       [0.],\n",
       "       [0.],\n",
       "       ...,\n",
       "       [4.],\n",
       "       [0.],\n",
       "       [4.]], dtype=float32)"
      ]
     },
     "execution_count": 40,
     "metadata": {},
     "output_type": "execute_result"
    }
   ],
   "source": [
    "y_pred"
   ]
  },
  {
   "cell_type": "code",
   "execution_count": 41,
   "metadata": {},
   "outputs": [
    {
     "name": "stdout",
     "output_type": "stream",
     "text": [
      "Confusion Matrix:\n",
      " [[3021  201]\n",
      " [   0  711]]\n",
      "Classification Report:\n",
      "               precision    recall  f1-score   support\n",
      "\n",
      "           0       1.00      0.94      0.97      3222\n",
      "           4       0.78      1.00      0.88       711\n",
      "\n",
      "    accuracy                           0.95      3933\n",
      "   macro avg       0.89      0.97      0.92      3933\n",
      "weighted avg       0.96      0.95      0.95      3933\n",
      "\n"
     ]
    }
   ],
   "source": [
    "confusion = confusion_matrix(Y_test, y_pred)\n",
    "print(\"Confusion Matrix:\\n\", confusion)\n",
    "report = classification_report(Y_test, y_pred)\n",
    "print(\"Classification Report:\\n\", report)"
   ]
  },
  {
   "cell_type": "code",
   "execution_count": null,
   "metadata": {},
   "outputs": [],
   "source": []
  }
 ],
 "metadata": {
  "kernelspec": {
   "display_name": "Python 3",
   "language": "python",
   "name": "python3"
  },
  "language_info": {
   "codemirror_mode": {
    "name": "ipython",
    "version": 3
   },
   "file_extension": ".py",
   "mimetype": "text/x-python",
   "name": "python",
   "nbconvert_exporter": "python",
   "pygments_lexer": "ipython3",
   "version": "3.7.7"
  }
 },
 "nbformat": 4,
 "nbformat_minor": 2
}
