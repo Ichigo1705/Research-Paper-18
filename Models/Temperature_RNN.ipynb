{
 "cells": [
  {
   "cell_type": "code",
   "execution_count": 32,
   "metadata": {},
   "outputs": [],
   "source": [
    "import numpy as np\n",
    "import tensorflow as tf\n",
    "import pandas as pd\n",
    "from tensorflow import keras\n",
    "from sklearn.model_selection import train_test_split\n",
    "from sklearn.preprocessing import StandardScaler, LabelEncoder\n",
    "from sklearn.metrics import accuracy_score, precision_score, recall_score, f1_score, confusion_matrix, classification_report\n",
    "from keras.layers import LSTM, Dense, Dropout, BatchNormalization\n",
    "from keras.callbacks import EarlyStopping, ModelCheckpoint, ReduceLROnPlateau"
   ]
  },
  {
   "cell_type": "code",
   "execution_count": 33,
   "metadata": {},
   "outputs": [],
   "source": [
    "data = pd.read_csv(r\"C:\\Users\\Jubin\\Desktop\\RP18\\Datasets\\intel\\interpolated\\injected_drift\\mote=1_sensortype=temperature_faulttype=drift.csv\")"
   ]
  },
  {
   "cell_type": "code",
   "execution_count": 34,
   "metadata": {},
   "outputs": [],
   "source": [
    "sensor_data = data.drop(columns = ['timestamp', 'mote_id', 'light', 'has_fault_type'])\n",
    "labels = data['has_fault_type']"
   ]
  },
  {
   "cell_type": "code",
   "execution_count": 35,
   "metadata": {},
   "outputs": [],
   "source": [
    "label_encoder = LabelEncoder()\n",
    "Y_encoded = label_encoder.fit_transform(labels)"
   ]
  },
  {
   "cell_type": "code",
   "execution_count": 36,
   "metadata": {},
   "outputs": [],
   "source": [
    "scaler = StandardScaler()\n",
    "scaled_data = scaler.fit_transform(sensor_data)"
   ]
  },
  {
   "cell_type": "code",
   "execution_count": 37,
   "metadata": {},
   "outputs": [],
   "source": [
    "sequence_length = 100\n",
    "\n",
    "X, Y = [], []\n",
    "for i in range(len(scaled_data) - sequence_length):\n",
    "    X.append(scaled_data[i : i + sequence_length])\n",
    "    Y.append(Y_encoded[i + sequence_length])\n",
    "\n",
    "X = np.array(X)\n",
    "Y = np.array(Y)"
   ]
  },
  {
   "cell_type": "code",
   "execution_count": 38,
   "metadata": {},
   "outputs": [],
   "source": [
    "# Split the data into training and testing sets\n",
    "X_train, X_test, Y_train, Y_test = train_test_split(X, Y, test_size=0.2, random_state=42)"
   ]
  },
  {
   "cell_type": "code",
   "execution_count": 39,
   "metadata": {},
   "outputs": [],
   "source": [
    "# Step 2: Build the RNN Model\n",
    "model = keras.Sequential([\n",
    "    LSTM(units=128, return_sequences=True, input_shape=(sequence_length, 1)),\n",
    "    BatchNormalization(),\n",
    "    Dropout(0.3),\n",
    "    LSTM(units=64, return_sequences=True),\n",
    "    BatchNormalization(),\n",
    "    Dropout(0.3),\n",
    "    LSTM(units=32),\n",
    "    BatchNormalization(),\n",
    "    Dropout(0.3),\n",
    "    Dense(units=1, activation='sigmoid')\n",
    "])"
   ]
  },
  {
   "cell_type": "code",
   "execution_count": 40,
   "metadata": {},
   "outputs": [],
   "source": [
    "# Compile the model\n",
    "model.compile(optimizer='adam', loss='binary_crossentropy', metrics=['accuracy'])"
   ]
  },
  {
   "cell_type": "code",
   "execution_count": 41,
   "metadata": {},
   "outputs": [],
   "source": [
    "# Step 3: Advanced Training Setup\n",
    "callbacks = [\n",
    "    EarlyStopping(monitor='val_loss', patience=10, restore_best_weights=True),\n",
    "    ModelCheckpoint('best_model.h5', save_best_only=True, save_weights_only=False),\n",
    "    ReduceLROnPlateau(monitor='val_loss', factor=0.1, patience=5, min_lr=1e-6)\n",
    "]"
   ]
  },
  {
   "cell_type": "code",
   "execution_count": 42,
   "metadata": {},
   "outputs": [
    {
     "name": "stdout",
     "output_type": "stream",
     "text": [
      "Epoch 1/50\n"
     ]
    },
    {
     "name": "stdout",
     "output_type": "stream",
     "text": [
      "251/251 [==============================] - 73s 275ms/step - loss: 0.1089 - accuracy: 0.9799 - val_loss: 0.2618 - val_accuracy: 0.9260 - lr: 0.0010\n",
      "Epoch 2/50\n",
      "251/251 [==============================] - 72s 286ms/step - loss: 0.0319 - accuracy: 0.9962 - val_loss: 0.0315 - val_accuracy: 0.9958 - lr: 0.0010\n",
      "Epoch 3/50\n",
      "251/251 [==============================] - 73s 289ms/step - loss: 0.0331 - accuracy: 0.9958 - val_loss: 0.0263 - val_accuracy: 0.9963 - lr: 0.0010\n",
      "Epoch 4/50\n",
      "251/251 [==============================] - 73s 291ms/step - loss: 0.0172 - accuracy: 0.9972 - val_loss: 0.0304 - val_accuracy: 0.9950 - lr: 0.0010\n",
      "Epoch 5/50\n",
      "251/251 [==============================] - 74s 294ms/step - loss: 0.0182 - accuracy: 0.9974 - val_loss: 0.0276 - val_accuracy: 0.9970 - lr: 0.0010\n",
      "Epoch 6/50\n",
      "251/251 [==============================] - 74s 295ms/step - loss: 0.0149 - accuracy: 0.9980 - val_loss: 0.0210 - val_accuracy: 0.9980 - lr: 0.0010\n",
      "Epoch 7/50\n",
      "251/251 [==============================] - 74s 295ms/step - loss: 0.0175 - accuracy: 0.9967 - val_loss: 0.0180 - val_accuracy: 0.9973 - lr: 0.0010\n",
      "Epoch 8/50\n",
      "251/251 [==============================] - 74s 297ms/step - loss: 0.0153 - accuracy: 0.9976 - val_loss: 0.0198 - val_accuracy: 0.9980 - lr: 0.0010\n",
      "Epoch 9/50\n",
      "251/251 [==============================] - 75s 299ms/step - loss: 0.0113 - accuracy: 0.9983 - val_loss: 0.0216 - val_accuracy: 0.9980 - lr: 0.0010\n",
      "Epoch 10/50\n",
      "251/251 [==============================] - 75s 301ms/step - loss: 0.0117 - accuracy: 0.9983 - val_loss: 0.0178 - val_accuracy: 0.9983 - lr: 0.0010\n",
      "Epoch 11/50\n",
      "251/251 [==============================] - 75s 298ms/step - loss: 0.0108 - accuracy: 0.9985 - val_loss: 0.0180 - val_accuracy: 0.9980 - lr: 0.0010\n",
      "Epoch 12/50\n",
      "251/251 [==============================] - 75s 298ms/step - loss: 0.0119 - accuracy: 0.9986 - val_loss: 0.0173 - val_accuracy: 0.9980 - lr: 0.0010\n",
      "Epoch 13/50\n",
      "251/251 [==============================] - 75s 299ms/step - loss: 0.0093 - accuracy: 0.9988 - val_loss: 0.0170 - val_accuracy: 0.9983 - lr: 0.0010\n",
      "Epoch 14/50\n",
      "251/251 [==============================] - 75s 298ms/step - loss: 0.0090 - accuracy: 0.9991 - val_loss: 0.0167 - val_accuracy: 0.9983 - lr: 0.0010\n",
      "Epoch 15/50\n",
      "251/251 [==============================] - 74s 293ms/step - loss: 0.0095 - accuracy: 0.9987 - val_loss: 0.0172 - val_accuracy: 0.9983 - lr: 0.0010\n",
      "Epoch 16/50\n",
      "251/251 [==============================] - 74s 296ms/step - loss: 0.0106 - accuracy: 0.9986 - val_loss: 0.0169 - val_accuracy: 0.9983 - lr: 0.0010\n",
      "Epoch 17/50\n",
      "251/251 [==============================] - 75s 300ms/step - loss: 0.0095 - accuracy: 0.9987 - val_loss: 0.0174 - val_accuracy: 0.9978 - lr: 0.0010\n",
      "Epoch 18/50\n",
      "251/251 [==============================] - 75s 298ms/step - loss: 0.0088 - accuracy: 0.9986 - val_loss: 0.0168 - val_accuracy: 0.9975 - lr: 0.0010\n",
      "Epoch 19/50\n",
      "251/251 [==============================] - 74s 294ms/step - loss: 0.0092 - accuracy: 0.9988 - val_loss: 0.0161 - val_accuracy: 0.9983 - lr: 0.0010\n",
      "Epoch 20/50\n",
      "251/251 [==============================] - 74s 293ms/step - loss: 0.0085 - accuracy: 0.9989 - val_loss: 0.0163 - val_accuracy: 0.9980 - lr: 0.0010\n",
      "Epoch 21/50\n",
      "251/251 [==============================] - 74s 295ms/step - loss: 0.0094 - accuracy: 0.9989 - val_loss: 0.0151 - val_accuracy: 0.9983 - lr: 0.0010\n",
      "Epoch 22/50\n",
      "251/251 [==============================] - 74s 295ms/step - loss: 0.0083 - accuracy: 0.9989 - val_loss: 0.0145 - val_accuracy: 0.9983 - lr: 0.0010\n",
      "Epoch 23/50\n",
      "251/251 [==============================] - 74s 295ms/step - loss: 0.0086 - accuracy: 0.9986 - val_loss: 0.0153 - val_accuracy: 0.9983 - lr: 0.0010\n",
      "Epoch 24/50\n",
      "251/251 [==============================] - 74s 294ms/step - loss: 0.0097 - accuracy: 0.9986 - val_loss: 0.8764 - val_accuracy: 0.7814 - lr: 0.0010\n",
      "Epoch 25/50\n",
      "251/251 [==============================] - 73s 292ms/step - loss: 0.0100 - accuracy: 0.9988 - val_loss: 0.0150 - val_accuracy: 0.9983 - lr: 0.0010\n",
      "Epoch 26/50\n",
      "251/251 [==============================] - 73s 292ms/step - loss: 0.0096 - accuracy: 0.9984 - val_loss: 0.0157 - val_accuracy: 0.9983 - lr: 0.0010\n",
      "Epoch 27/50\n",
      "251/251 [==============================] - 74s 295ms/step - loss: 0.0196 - accuracy: 0.9963 - val_loss: 0.0141 - val_accuracy: 0.9983 - lr: 0.0010\n",
      "Epoch 28/50\n",
      "251/251 [==============================] - 74s 294ms/step - loss: 0.0087 - accuracy: 0.9988 - val_loss: 0.0150 - val_accuracy: 0.9980 - lr: 0.0010\n",
      "Epoch 29/50\n",
      "251/251 [==============================] - 74s 296ms/step - loss: 0.0077 - accuracy: 0.9990 - val_loss: 0.0150 - val_accuracy: 0.9983 - lr: 0.0010\n",
      "Epoch 30/50\n",
      "251/251 [==============================] - 75s 298ms/step - loss: 0.0140 - accuracy: 0.9981 - val_loss: 0.0142 - val_accuracy: 0.9983 - lr: 0.0010\n",
      "Epoch 31/50\n",
      "251/251 [==============================] - 74s 297ms/step - loss: 0.0096 - accuracy: 0.9986 - val_loss: 0.0144 - val_accuracy: 0.9980 - lr: 0.0010\n",
      "Epoch 32/50\n",
      "251/251 [==============================] - 74s 294ms/step - loss: 0.0088 - accuracy: 0.9989 - val_loss: 0.0145 - val_accuracy: 0.9980 - lr: 0.0010\n",
      "Epoch 33/50\n",
      "251/251 [==============================] - 77s 309ms/step - loss: 0.0079 - accuracy: 0.9989 - val_loss: 0.0148 - val_accuracy: 0.9980 - lr: 1.0000e-04\n",
      "Epoch 34/50\n",
      "251/251 [==============================] - 75s 299ms/step - loss: 0.0083 - accuracy: 0.9991 - val_loss: 0.0146 - val_accuracy: 0.9983 - lr: 1.0000e-04\n",
      "Epoch 35/50\n",
      "251/251 [==============================] - 75s 301ms/step - loss: 0.0078 - accuracy: 0.9989 - val_loss: 0.0144 - val_accuracy: 0.9983 - lr: 1.0000e-04\n",
      "Epoch 36/50\n",
      "251/251 [==============================] - 76s 302ms/step - loss: 0.0080 - accuracy: 0.9991 - val_loss: 0.0142 - val_accuracy: 0.9983 - lr: 1.0000e-04\n",
      "Epoch 37/50\n",
      "251/251 [==============================] - 76s 302ms/step - loss: 0.0076 - accuracy: 0.9991 - val_loss: 0.0145 - val_accuracy: 0.9983 - lr: 1.0000e-04\n"
     ]
    }
   ],
   "source": [
    "# Step 4: Train the Model\n",
    "history = model.fit(\n",
    "    X_train, Y_train,\n",
    "    epochs=50,\n",
    "    batch_size=64,\n",
    "    validation_data=(X_test, Y_test),\n",
    "    callbacks=callbacks\n",
    ")"
   ]
  },
  {
   "cell_type": "code",
   "execution_count": 43,
   "metadata": {},
   "outputs": [
    {
     "name": "stdout",
     "output_type": "stream",
     "text": [
      "126/126 [==============================] - 8s 54ms/step\n"
     ]
    }
   ],
   "source": [
    "# Step 5: Evaluate the Model\n",
    "model.load_weights('best_model.h5')  # Load the best model weights\n",
    "Y_pred = model.predict(X_test)\n",
    "Y_pred_binary = (Y_pred > 0.5).astype(int)"
   ]
  },
  {
   "cell_type": "code",
   "execution_count": 44,
   "metadata": {},
   "outputs": [
    {
     "name": "stdout",
     "output_type": "stream",
     "text": [
      "Accuracy: 0.9982552342971087\n",
      "Precision: 0.9941434846266471\n",
      "Recall: 0.9956011730205279\n",
      "F1 Score: 0.9948717948717949\n",
      "Confusion Matrix:\n",
      "[[3326    4]\n",
      " [   3  679]]\n"
     ]
    }
   ],
   "source": [
    "accuracy = accuracy_score(Y_test, Y_pred_binary)\n",
    "precision = precision_score(Y_test, Y_pred_binary)\n",
    "recall = recall_score(Y_test, Y_pred_binary)\n",
    "f1 = f1_score(Y_test, Y_pred_binary)\n",
    "conf_matrix = confusion_matrix(Y_test, Y_pred_binary)\n",
    "\n",
    "print(f\"Accuracy: {accuracy}\")\n",
    "print(f\"Precision: {precision}\")\n",
    "print(f\"Recall: {recall}\")\n",
    "print(f\"F1 Score: {f1}\")\n",
    "print(f\"Confusion Matrix:\\n{conf_matrix}\")"
   ]
  },
  {
   "cell_type": "code",
   "execution_count": null,
   "metadata": {},
   "outputs": [],
   "source": []
  }
 ],
 "metadata": {
  "kernelspec": {
   "display_name": "Python 3",
   "language": "python",
   "name": "python3"
  },
  "language_info": {
   "codemirror_mode": {
    "name": "ipython",
    "version": 3
   },
   "file_extension": ".py",
   "mimetype": "text/x-python",
   "name": "python",
   "nbconvert_exporter": "python",
   "pygments_lexer": "ipython3",
   "version": "3.7.7"
  }
 },
 "nbformat": 4,
 "nbformat_minor": 2
}
